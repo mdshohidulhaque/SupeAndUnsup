{
 "cells": [
  {
   "cell_type": "markdown",
   "metadata": {},
   "source": [
    "## Homework 4\n",
    "\n",
    "### Model optimization using GridSearchCV\n",
    "\n",
    "1. Using sklearn.datasets.load_boston, make a pipeline that combines\n",
    "    - StandardScaler\n",
    "    - KernelPCA with \"poly\" kernel\n",
    "    - ElasticNet regression\n",
    "2. Find the best combination of the following 4 parameters:\n",
    "    - KernelPCA.gamma \n",
    "    - KernelPCA.degree\n",
    "    - ElasticNet.alpha\n",
    "    - ElasticNet.l1_ratio\n",
    "   Make nice plots to support your optimization procedure.\n",
    "3. Learn from Scikit-Learn documentation how to use different models as parameter values. \n",
    "   Make a pipeline with StandardScaler, KernelPCA and a \"regressor\", then compare\n",
    "   classifiers like \"Ridge\", \"RandomForestRegressor\" and \"sklearn.smv.SVR\". \n",
    "   Which classifier is the best?"
   ]
  },
  {
   "cell_type": "code",
   "execution_count": null,
   "metadata": {},
   "outputs": [],
   "source": []
  }
 ],
 "metadata": {
  "anaconda-cloud": {},
  "kernelspec": {
   "display_name": "Python 3",
   "language": "python",
   "name": "python3"
  },
  "language_info": {
   "codemirror_mode": {
    "name": "ipython",
    "version": 3
   },
   "file_extension": ".py",
   "mimetype": "text/x-python",
   "name": "python",
   "nbconvert_exporter": "python",
   "pygments_lexer": "ipython3",
   "version": "3.7.3"
  }
 },
 "nbformat": 4,
 "nbformat_minor": 1
}
